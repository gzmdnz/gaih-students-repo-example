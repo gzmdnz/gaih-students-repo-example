{
 "cells": [
  {
   "cell_type": "code",
   "execution_count": 1,
   "metadata": {},
   "outputs": [
    {
     "name": "stdout",
     "output_type": "stream",
     "text": [
      "Please enter your Student ID: 507171015\n",
      "Please enter your Midterm grade: 80\n",
      "Please enter your Project grade: 95\n",
      "Please enter your Final grade: 90\n"
     ]
    }
   ],
   "source": [
    "StudentID1= input(\"Please enter your Student ID: \")\n",
    "Midtermgrade1= input(\"Please enter your Midterm grade: \")\n",
    "Projectgrade1= input(\"Please enter your Project grade: \")\n",
    "Finalgrade1= input(\"Please enter your Final grade: \")"
   ]
  },
  {
   "cell_type": "code",
   "execution_count": 2,
   "metadata": {},
   "outputs": [
    {
     "name": "stdout",
     "output_type": "stream",
     "text": [
      "Please enter your Student ID: 986789567\n",
      "Please enter your Midterm grade: 70\n",
      "Please enter your Project grade: 80\n",
      "Please enter your Final grade: 85\n"
     ]
    }
   ],
   "source": [
    "StudentID2= input(\"Please enter your Student ID: \")\n",
    "Midtermgrade2= input(\"Please enter your Midterm grade: \")\n",
    "Projectgrade2= input(\"Please enter your Project grade: \")\n",
    "Finalgrade2= input(\"Please enter your Final grade: \")"
   ]
  },
  {
   "cell_type": "code",
   "execution_count": 3,
   "metadata": {},
   "outputs": [
    {
     "name": "stdout",
     "output_type": "stream",
     "text": [
      "Please enter your Student ID: 786543678\n",
      "Please enter your Midterm grade: 60\n",
      "Please enter your Project grade: 75\n",
      "Please enter your Final grade: 90\n"
     ]
    }
   ],
   "source": [
    "StudentID3= input(\"Please enter your Student ID: \")\n",
    "Midtermgrade3= input(\"Please enter your Midterm grade: \")\n",
    "Projectgrade3= input(\"Please enter your Project grade: \")\n",
    "Finalgrade3= input(\"Please enter your Final grade: \")"
   ]
  },
  {
   "cell_type": "code",
   "execution_count": 4,
   "metadata": {},
   "outputs": [
    {
     "name": "stdout",
     "output_type": "stream",
     "text": [
      "Please enter your Student ID: 789654666\n",
      "Please enter your Midterm grade: 50\n",
      "Please enter your Project grade: 70\n",
      "Please enter your Final grade: 65\n"
     ]
    }
   ],
   "source": [
    "StudentID4= input(\"Please enter your Student ID: \")\n",
    "Midtermgrade4= input(\"Please enter your Midterm grade: \")\n",
    "Projectgrade4= input(\"Please enter your Project grade: \")\n",
    "Finalgrade4= input(\"Please enter your Final grade: \")"
   ]
  },
  {
   "cell_type": "code",
   "execution_count": 5,
   "metadata": {},
   "outputs": [
    {
     "name": "stdout",
     "output_type": "stream",
     "text": [
      "Please enter your Student ID: 577865478\n",
      "Please enter your Midterm grade: 90\n",
      "Please enter your Project grade: 7\n",
      "Please enter your Final grade: 100\n"
     ]
    }
   ],
   "source": [
    "StudentID5= input(\"Please enter your Student ID: \")\n",
    "Midtermgrade5= input(\"Please enter your Midterm grade: \")\n",
    "Projectgrade5= input(\"Please enter your Project grade: \")\n",
    "Finalgrade5= input(\"Please enter your Final grade: \")"
   ]
  },
  {
   "cell_type": "code",
   "execution_count": 6,
   "metadata": {},
   "outputs": [],
   "source": [
    "grades={int(StudentID1):(int(Midtermgrade1), int(Projectgrade1), int(Finalgrade1)),int(StudentID2):(int(Midtermgrade2), int(Projectgrade2), int(Finalgrade2)), int(StudentID3):(int(Midtermgrade3), int(Projectgrade3), int(Finalgrade3)), int(StudentID4):(int(Midtermgrade4), int(Projectgrade4), int(Finalgrade4)), int(StudentID5):(int(Midtermgrade5), int(Projectgrade5), int(Finalgrade5))}"
   ]
  },
  {
   "cell_type": "code",
   "execution_count": 7,
   "metadata": {},
   "outputs": [
    {
     "name": "stdout",
     "output_type": "stream",
     "text": [
      "{507171015: (80, 95, 90), 986789567: (70, 80, 85), 786543678: (60, 75, 90), 789654666: (50, 70, 65), 577865478: (90, 7, 100)}\n"
     ]
    }
   ],
   "source": [
    "print(grades)"
   ]
  },
  {
   "cell_type": "code",
   "execution_count": 8,
   "metadata": {},
   "outputs": [],
   "source": [
    "passinggrade={int(StudentID1):[int(Midtermgrade1)*0.30 + int(Projectgrade1)*0.30 + int(Finalgrade1)*0.40],int(StudentID2):[int(Midtermgrade2)*0.30 + int(Projectgrade2)*0.30 + int(Finalgrade2)*0.40], int(StudentID3):[int(Midtermgrade3)*0.30 + int(Projectgrade3)*0.30 + int(Finalgrade3)*0.40], int(StudentID4):[int(Midtermgrade4)*0.30 + int(Projectgrade4)*0.30 + int(Finalgrade4)*0.40], int(StudentID5):[int(Midtermgrade5)*0.30 + int(Projectgrade5)*0.30 + int(Finalgrade5)*0.40]}"
   ]
  },
  {
   "cell_type": "code",
   "execution_count": 15,
   "metadata": {
    "scrolled": false
   },
   "outputs": [
    {
     "name": "stdout",
     "output_type": "stream",
     "text": [
      "{507171015: [88.5], 986789567: [79.0], 786543678: [76.5], 789654666: [62.0], 577865478: [69.1]}\n"
     ]
    }
   ],
   "source": [
    "print(passinggrade)"
   ]
  },
  {
   "cell_type": "code",
   "execution_count": 17,
   "metadata": {},
   "outputs": [],
   "source": [
    "liste = list(passinggrade.values())"
   ]
  },
  {
   "cell_type": "code",
   "execution_count": 18,
   "metadata": {},
   "outputs": [
    {
     "name": "stdout",
     "output_type": "stream",
     "text": [
      "[[88.5], [79.0], [76.5], [62.0], [69.1]]\n"
     ]
    }
   ],
   "source": [
    "print(liste)"
   ]
  },
  {
   "cell_type": "code",
   "execution_count": 20,
   "metadata": {},
   "outputs": [
    {
     "name": "stdout",
     "output_type": "stream",
     "text": [
      "507171015=[88.5]\n",
      "986789567=[79.0]\n",
      "786543678=[76.5]\n",
      "789654666=[62.0]\n",
      "577865478=[69.1]\n"
     ]
    }
   ],
   "source": [
    "for key, value in passinggrade.items():\n",
    "    print(\"{}={}\".format(key, value))\n",
    "    \n"
   ]
  },
  {
   "cell_type": "code",
   "execution_count": 22,
   "metadata": {},
   "outputs": [],
   "source": [
    "yeniliste=sorted(liste)"
   ]
  },
  {
   "cell_type": "code",
   "execution_count": 23,
   "metadata": {},
   "outputs": [
    {
     "name": "stdout",
     "output_type": "stream",
     "text": [
      "[[62.0], [69.1], [76.5], [79.0], [88.5]]\n"
     ]
    }
   ],
   "source": [
    "print(yeniliste)"
   ]
  },
  {
   "cell_type": "code",
   "execution_count": null,
   "metadata": {},
   "outputs": [],
   "source": []
  }
 ],
 "metadata": {
  "kernelspec": {
   "display_name": "Python 3",
   "language": "python",
   "name": "python3"
  },
  "language_info": {
   "codemirror_mode": {
    "name": "ipython",
    "version": 3
   },
   "file_extension": ".py",
   "mimetype": "text/x-python",
   "name": "python",
   "nbconvert_exporter": "python",
   "pygments_lexer": "ipython3",
   "version": "3.6.11"
  }
 },
 "nbformat": 4,
 "nbformat_minor": 4
}
